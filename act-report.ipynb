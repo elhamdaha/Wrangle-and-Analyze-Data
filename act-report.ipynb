{
 "cells": [
  {
   "cell_type": "markdown",
   "metadata": {},
   "source": [
    "## Quality Issues"
   ]
  },
  {
   "cell_type": "markdown",
   "metadata": {},
   "source": [
    "### df:"
   ]
  },
  {
   "cell_type": "markdown",
   "metadata": {},
   "source": [
    "1) Missing data in the following columns: in_reply_to_status_id, in_reply_to_user_id, Retweeted_status_id, retweeted_status_user_id, retweeted_status_timestamp, expanded_urls \n",
    "\n",
    "2) This dataset includes retweets, which means there is duplicated data \n",
    "\n",
    "3) Timestamp and retweeted_status_timestamp is an object and not correct datetime frame.  \n",
    "\n",
    "4) The source column still has the HTML tags \n",
    "\n",
    "5) Dogs name have 'None', or 'a', or 'an.' and some more lower case words as names \n",
    "\n",
    "6) Multiple dog stages occurs such as 'doggo puppo', 'doggo pupper', 'doggo floofer'"
   ]
  },
  {
   "cell_type": "markdown",
   "metadata": {},
   "source": [
    "### image_df:"
   ]
  },
  {
   "cell_type": "markdown",
   "metadata": {},
   "source": [
    "1) Dog breeds are not consistently in p1,p2,p3 columns: this column contains dog breeds name starts with upper case or lower case. "
   ]
  },
  {
   "cell_type": "markdown",
   "metadata": {},
   "source": [
    "### df_tweet_json:"
   ]
  },
  {
   "cell_type": "markdown",
   "metadata": {},
   "source": [
    "1) Date type of column tweet_id is an object. It should be an int in order to merge it to the master df."
   ]
  },
  {
   "cell_type": "markdown",
   "metadata": {},
   "source": [
    "## Tidiness Issues"
   ]
  },
  {
   "cell_type": "markdown",
   "metadata": {},
   "source": [
    "### df:"
   ]
  },
  {
   "cell_type": "markdown",
   "metadata": {},
   "source": [
    "1) The variable for the dog's stage (dogoo, floofer, pupper, puppo) is spread in different columns which should be in one column."
   ]
  },
  {
   "cell_type": "markdown",
   "metadata": {},
   "source": [
    "### image_df:"
   ]
  },
  {
   "cell_type": "markdown",
   "metadata": {},
   "source": [
    "2) This data set is part of the same observational unit as the data in the archive_df "
   ]
  },
  {
   "cell_type": "markdown",
   "metadata": {},
   "source": [
    "### df_tweet_json:"
   ]
  },
  {
   "cell_type": "markdown",
   "metadata": {},
   "source": [
    "3) This data set is also part of the same observational unit as the data in the archive_df "
   ]
  },
  {
   "cell_type": "markdown",
   "metadata": {},
   "source": [
    "# Cleaning Data"
   ]
  },
  {
   "cell_type": "code",
   "execution_count": 31,
   "metadata": {},
   "outputs": [],
   "source": [
    "#Making a copy of the dataframes before cleaning\n",
    "df_clean = df.copy()\n",
    "image_df_clean = image_df.copy()\n",
    "tweet_json_clean = df_tweet_json.copy()"
   ]
  },
  {
   "cell_type": "markdown",
   "metadata": {},
   "source": [
    "## DEFINE-CODE-TEST"
   ]
  },
  {
   "cell_type": "markdown",
   "metadata": {},
   "source": [
    "1) Convert the tweet_id in tweet_json_clean dataframe into int type for merging into master dataframe\n",
    "\n",
    "2) Creates a predicted dog breed column, based on the the confidence level of minimum 20% and 'p1_dog', 'p2_dog' and 'p3_dog' statements\n",
    "\n",
    "3) Create one column for the various dog types: doggo, floofer, pupper, puppo, 'doggo, puppo', 'doggo, pupper', 'doggo, floofer' ascolumn name ' type ' with the categorical dtype\n",
    "\n",
    "4) Merge the copied df_clean, image_df_clean, and tweet_json_clean dataframes\n",
    "\n",
    "5) Convert the tweet_id in master_df into object type as there is no use for maths operation in tweet_id\n",
    "\n",
    "6) Replace 'a', 'an', 'the', 'None' and other lower case words with NaN in name column\n",
    "\n",
    "7) Remove Inconsistency in pred_breed\n",
    "\n",
    "8) Delete retweets\n",
    "\n",
    "9) Remove columns no longer needed: in_reply_to_status_id, in_reply_to_user_id, retweeted_status_id, retweeted_status_user_id, and retweeted_status_timestamp\n",
    "\n",
    "10) Change the timestamp to correct datetime format\n",
    "\n",
    "11) Removing HTML tags from source column\n",
    "\n",
    "12) Dog ratings get standardized for denom of 10."
   ]
  },
  {
   "cell_type": "markdown",
   "metadata": {},
   "source": [
    "### 1. Convert the tweet_id in tweet_json_clean dataframe into int type for merging into master dataframe"
   ]
  },
  {
   "cell_type": "code",
   "execution_count": 32,
   "metadata": {},
   "outputs": [],
   "source": [
    "tweet_json_clean['tweet_id'] = tweet_json_clean['tweet_id'].astype('int64')"
   ]
  },
  {
   "cell_type": "code",
   "execution_count": 33,
   "metadata": {
    "scrolled": true
   },
   "outputs": [
    {
     "name": "stdout",
     "output_type": "stream",
     "text": [
      "<class 'pandas.core.frame.DataFrame'>\n",
      "RangeIndex: 2331 entries, 0 to 2330\n",
      "Data columns (total 3 columns):\n",
      "tweet_id          2331 non-null int64\n",
      "retweet_count     2331 non-null object\n",
      "favorite_count    2331 non-null object\n",
      "dtypes: int64(1), object(2)\n",
      "memory usage: 54.7+ KB\n"
     ]
    }
   ],
   "source": [
    "tweet_json_clean.info()"
   ]
  },
  {
   "cell_type": "markdown",
   "metadata": {},
   "source": [
    "### 2. Creates a predicted dog breed column, based on the the confidence level of minimum 20% and 'p1_dog', 'p2_dog' and 'p3_dog' statements"
   ]
  },
  {
   "cell_type": "code",
   "execution_count": 34,
   "metadata": {},
   "outputs": [
    {
     "data": {
      "text/html": [
       "<div>\n",
       "<style scoped>\n",
       "    .dataframe tbody tr th:only-of-type {\n",
       "        vertical-align: middle;\n",
       "    }\n",
       "\n",
       "    .dataframe tbody tr th {\n",
       "        vertical-align: top;\n",
       "    }\n",
       "\n",
       "    .dataframe thead th {\n",
       "        text-align: right;\n",
       "    }\n",
       "</style>\n",
       "<table border=\"1\" class=\"dataframe\">\n",
       "  <thead>\n",
       "    <tr style=\"text-align: right;\">\n",
       "      <th></th>\n",
       "      <th>tweet_id</th>\n",
       "      <th>jpg_url</th>\n",
       "      <th>img_num</th>\n",
       "      <th>p1</th>\n",
       "      <th>p1_conf</th>\n",
       "      <th>p1_dog</th>\n",
       "      <th>p2</th>\n",
       "      <th>p2_conf</th>\n",
       "      <th>p2_dog</th>\n",
       "      <th>p3</th>\n",
       "      <th>p3_conf</th>\n",
       "      <th>p3_dog</th>\n",
       "    </tr>\n",
       "  </thead>\n",
       "  <tbody>\n",
       "    <tr>\n",
       "      <th>1170</th>\n",
       "      <td>736225175608430592</td>\n",
       "      <td>https://pbs.twimg.com/media/CjeY5DKXEAA3WkD.jpg</td>\n",
       "      <td>1</td>\n",
       "      <td>Labrador_retriever</td>\n",
       "      <td>0.399217</td>\n",
       "      <td>True</td>\n",
       "      <td>West_Highland_white_terrier</td>\n",
       "      <td>0.13771</td>\n",
       "      <td>True</td>\n",
       "      <td>cocker_spaniel</td>\n",
       "      <td>0.062033</td>\n",
       "      <td>True</td>\n",
       "    </tr>\n",
       "  </tbody>\n",
       "</table>\n",
       "</div>"
      ],
      "text/plain": [
       "                tweet_id                                          jpg_url  \\\n",
       "1170  736225175608430592  https://pbs.twimg.com/media/CjeY5DKXEAA3WkD.jpg   \n",
       "\n",
       "      img_num                  p1   p1_conf  p1_dog  \\\n",
       "1170        1  Labrador_retriever  0.399217    True   \n",
       "\n",
       "                               p2  p2_conf  p2_dog              p3   p3_conf  \\\n",
       "1170  West_Highland_white_terrier  0.13771    True  cocker_spaniel  0.062033   \n",
       "\n",
       "      p3_dog  \n",
       "1170    True  "
      ]
     },
     "execution_count": 34,
     "metadata": {},
     "output_type": "execute_result"
    }
   ],
   "source": [
    "image_df_clean.sample()"
   ]
  },
  {
   "cell_type": "code",
   "execution_count": 35,
   "metadata": {},
   "outputs": [],
   "source": [
    "image_df_clean['pred_breed'] = [df['p1'] if df['p1_dog'] == True and df['p1_conf'] > 0.2 \n",
    "                     else df['p2'] if df['p2_dog'] == True and df['p2_conf'] > 0.2\n",
    "                     else df['p3'] if df['p3_dog'] == True and df['p3_conf'] > 0.2\n",
    "                     else np.nan for index, df in image_df_clean.iterrows()]"
   ]
  },
  {
   "cell_type": "code",
   "execution_count": 36,
   "metadata": {},
   "outputs": [],
   "source": [
    "# Drop 'p1', 'p1_dog', 'p1_conf','p2', 'p2_dog', 'p2_conf','p3', 'p3_dog', 'p3_conf' columns\n",
    "image_df_clean.drop(['p1', 'p1_dog', 'p1_conf','p2', 'p2_dog', 'p2_conf','p3', 'p3_dog', 'p3_conf'], axis = 1, inplace=True)"
   ]
  },
  {
   "cell_type": "code",
   "execution_count": 37,
   "metadata": {
    "scrolled": true
   },
   "outputs": [
    {
     "data": {
      "text/html": [
       "<div>\n",
       "<style scoped>\n",
       "    .dataframe tbody tr th:only-of-type {\n",
       "        vertical-align: middle;\n",
       "    }\n",
       "\n",
       "    .dataframe tbody tr th {\n",
       "        vertical-align: top;\n",
       "    }\n",
       "\n",
       "    .dataframe thead th {\n",
       "        text-align: right;\n",
       "    }\n",
       "</style>\n",
       "<table border=\"1\" class=\"dataframe\">\n",
       "  <thead>\n",
       "    <tr style=\"text-align: right;\">\n",
       "      <th></th>\n",
       "      <th>tweet_id</th>\n",
       "      <th>jpg_url</th>\n",
       "      <th>img_num</th>\n",
       "      <th>pred_breed</th>\n",
       "    </tr>\n",
       "  </thead>\n",
       "  <tbody>\n",
       "    <tr>\n",
       "      <th>0</th>\n",
       "      <td>666020888022790149</td>\n",
       "      <td>https://pbs.twimg.com/media/CT4udn0WwAA0aMy.jpg</td>\n",
       "      <td>1</td>\n",
       "      <td>Welsh_springer_spaniel</td>\n",
       "    </tr>\n",
       "    <tr>\n",
       "      <th>1</th>\n",
       "      <td>666029285002620928</td>\n",
       "      <td>https://pbs.twimg.com/media/CT42GRgUYAA5iDo.jpg</td>\n",
       "      <td>1</td>\n",
       "      <td>redbone</td>\n",
       "    </tr>\n",
       "    <tr>\n",
       "      <th>2</th>\n",
       "      <td>666033412701032449</td>\n",
       "      <td>https://pbs.twimg.com/media/CT4521TWwAEvMyu.jpg</td>\n",
       "      <td>1</td>\n",
       "      <td>German_shepherd</td>\n",
       "    </tr>\n",
       "    <tr>\n",
       "      <th>3</th>\n",
       "      <td>666044226329800704</td>\n",
       "      <td>https://pbs.twimg.com/media/CT5Dr8HUEAA-lEu.jpg</td>\n",
       "      <td>1</td>\n",
       "      <td>Rhodesian_ridgeback</td>\n",
       "    </tr>\n",
       "    <tr>\n",
       "      <th>4</th>\n",
       "      <td>666049248165822465</td>\n",
       "      <td>https://pbs.twimg.com/media/CT5IQmsXIAAKY4A.jpg</td>\n",
       "      <td>1</td>\n",
       "      <td>miniature_pinscher</td>\n",
       "    </tr>\n",
       "  </tbody>\n",
       "</table>\n",
       "</div>"
      ],
      "text/plain": [
       "             tweet_id                                          jpg_url  \\\n",
       "0  666020888022790149  https://pbs.twimg.com/media/CT4udn0WwAA0aMy.jpg   \n",
       "1  666029285002620928  https://pbs.twimg.com/media/CT42GRgUYAA5iDo.jpg   \n",
       "2  666033412701032449  https://pbs.twimg.com/media/CT4521TWwAEvMyu.jpg   \n",
       "3  666044226329800704  https://pbs.twimg.com/media/CT5Dr8HUEAA-lEu.jpg   \n",
       "4  666049248165822465  https://pbs.twimg.com/media/CT5IQmsXIAAKY4A.jpg   \n",
       "\n",
       "   img_num              pred_breed  \n",
       "0        1  Welsh_springer_spaniel  \n",
       "1        1                 redbone  \n",
       "2        1         German_shepherd  \n",
       "3        1     Rhodesian_ridgeback  \n",
       "4        1      miniature_pinscher  "
      ]
     },
     "execution_count": 37,
     "metadata": {},
     "output_type": "execute_result"
    }
   ],
   "source": [
    "image_df_clean.head()"
   ]
  },
  {
   "cell_type": "markdown",
   "metadata": {},
   "source": [
    "### 3) Create one column for the various dog types: doggo, floofer, pupper, puppo, 'doggo, puppo', 'doggo, pupper', 'doggo, floofer' ascolumn name ' type ' with the categorical dtype"
   ]
  },
  {
   "cell_type": "code",
   "execution_count": 38,
   "metadata": {},
   "outputs": [
    {
     "data": {
      "text/plain": [
       "Index(['tweet_id', 'in_reply_to_status_id', 'in_reply_to_user_id', 'timestamp',\n",
       "       'source', 'text', 'retweeted_status_id', 'retweeted_status_user_id',\n",
       "       'retweeted_status_timestamp', 'expanded_urls', 'rating_numerator',\n",
       "       'rating_denominator', 'name', 'doggo', 'floofer', 'pupper', 'puppo'],\n",
       "      dtype='object')"
      ]
     },
     "execution_count": 38,
     "metadata": {},
     "output_type": "execute_result"
    }
   ],
   "source": [
    "#Number of columns in df_clean\n",
    "df_clean.columns"
   ]
  },
  {
   "cell_type": "code",
   "execution_count": 39,
   "metadata": {},
   "outputs": [],
   "source": [
    "# as there are separate columns for dogs type 'doggo','floofer','pupper'and so on...\n",
    "#i will convert them into one column\n",
    "df_clean.doggo.replace(np.NaN, '', inplace=True)\n",
    "df_clean.floofer.replace(np.NaN, '', inplace=True)\n",
    "df_clean.pupper.replace(np.NaN, '', inplace=True)\n",
    "df_clean.puppo.replace(np.NaN, '', inplace=True)\n",
    "df_clean.doggo.replace('None', '', inplace=True)\n",
    "df_clean.floofer.replace('None', '', inplace=True)\n",
    "df_clean.pupper.replace('None', '', inplace=True)\n",
    "df_clean.puppo.replace('None', '', inplace=True)"
   ]
  },
  {
   "cell_type": "code",
   "execution_count": 40,
   "metadata": {},
   "outputs": [],
   "source": [
    "df_clean['stage'] = df_clean.doggo + df_clean.floofer + df_clean.pupper + df_clean.puppo\n",
    "df_clean.loc[df_clean.stage == 'doggopupper', 'stage'] = 'doggo, pupper'\n",
    "df_clean.loc[df_clean.stage == 'doggopuppo', 'stage'] = 'doggo, puppo'\n",
    "df_clean.loc[df_clean.stage == 'doggofloofer', 'stage'] = 'doggo, floofer'"
   ]
  },
  {
   "cell_type": "code",
   "execution_count": 41,
   "metadata": {},
   "outputs": [],
   "source": [
    "# Convert the stage in df_clean into categorical dtype\n",
    "df_clean['stage'] = df_clean['stage'].astype('category')"
   ]
  },
  {
   "cell_type": "code",
   "execution_count": 42,
   "metadata": {},
   "outputs": [],
   "source": [
    "# drop 'doggo', 'floofer', 'pupper', 'puppo' columns\n",
    "df_clean.drop(['doggo', 'floofer', 'pupper', 'puppo'], axis=1, inplace=True)\n",
    "df_clean.stage.replace('', np.nan, inplace=True)"
   ]
  },
  {
   "cell_type": "code",
   "execution_count": 43,
   "metadata": {},
   "outputs": [
    {
     "name": "stdout",
     "output_type": "stream",
     "text": [
      "<class 'pandas.core.frame.DataFrame'>\n",
      "RangeIndex: 2356 entries, 0 to 2355\n",
      "Data columns (total 14 columns):\n",
      "tweet_id                      2356 non-null int64\n",
      "in_reply_to_status_id         78 non-null float64\n",
      "in_reply_to_user_id           78 non-null float64\n",
      "timestamp                     2356 non-null object\n",
      "source                        2356 non-null object\n",
      "text                          2356 non-null object\n",
      "retweeted_status_id           181 non-null float64\n",
      "retweeted_status_user_id      181 non-null float64\n",
      "retweeted_status_timestamp    181 non-null object\n",
      "expanded_urls                 2297 non-null object\n",
      "rating_numerator              2356 non-null int64\n",
      "rating_denominator            2356 non-null int64\n",
      "name                          2356 non-null object\n",
      "stage                         380 non-null category\n",
      "dtypes: category(1), float64(4), int64(3), object(6)\n",
      "memory usage: 242.0+ KB\n"
     ]
    },
    {
     "data": {
      "text/plain": [
       "pupper            245\n",
       "doggo              83\n",
       "puppo              29\n",
       "doggo, pupper      12\n",
       "floofer             9\n",
       "doggo, puppo        1\n",
       "doggo, floofer      1\n",
       "                    0\n",
       "Name: stage, dtype: int64"
      ]
     },
     "execution_count": 43,
     "metadata": {},
     "output_type": "execute_result"
    }
   ],
   "source": [
    "df_clean.info()\n",
    "df_clean.stage.value_counts()"
   ]
  },
  {
   "cell_type": "code",
   "execution_count": 44,
   "metadata": {
    "scrolled": true
   },
   "outputs": [
    {
     "name": "stdout",
     "output_type": "stream",
     "text": [
      "<class 'pandas.core.frame.DataFrame'>\n",
      "RangeIndex: 2356 entries, 0 to 2355\n",
      "Data columns (total 14 columns):\n",
      "tweet_id                      2356 non-null int64\n",
      "in_reply_to_status_id         78 non-null float64\n",
      "in_reply_to_user_id           78 non-null float64\n",
      "timestamp                     2356 non-null object\n",
      "source                        2356 non-null object\n",
      "text                          2356 non-null object\n",
      "retweeted_status_id           181 non-null float64\n",
      "retweeted_status_user_id      181 non-null float64\n",
      "retweeted_status_timestamp    181 non-null object\n",
      "expanded_urls                 2297 non-null object\n",
      "rating_numerator              2356 non-null int64\n",
      "rating_denominator            2356 non-null int64\n",
      "name                          2356 non-null object\n",
      "stage                         380 non-null category\n",
      "dtypes: category(1), float64(4), int64(3), object(6)\n",
      "memory usage: 242.0+ KB\n"
     ]
    }
   ],
   "source": [
    "df_clean.info()"
   ]
  },
  {
   "cell_type": "markdown",
   "metadata": {},
   "source": [
    "### 4) Merge the copied df_clean, image_df_clean, and tweet_json_clean dataframes"
   ]
  },
  {
   "cell_type": "code",
   "execution_count": 45,
   "metadata": {},
   "outputs": [],
   "source": [
    "from functools import reduce\n",
    "data = [df_clean, image_df_clean, tweet_json_clean]\n",
    "main_df = reduce(lambda left, right:  pd.merge(left, right,on = 'tweet_id'), data)"
   ]
  },
  {
   "cell_type": "code",
   "execution_count": 46,
   "metadata": {
    "scrolled": true
   },
   "outputs": [
    {
     "name": "stdout",
     "output_type": "stream",
     "text": [
      "<class 'pandas.core.frame.DataFrame'>\n",
      "Int64Index: 2059 entries, 0 to 2058\n",
      "Data columns (total 19 columns):\n",
      "tweet_id                      2059 non-null int64\n",
      "in_reply_to_status_id         23 non-null float64\n",
      "in_reply_to_user_id           23 non-null float64\n",
      "timestamp                     2059 non-null object\n",
      "source                        2059 non-null object\n",
      "text                          2059 non-null object\n",
      "retweeted_status_id           72 non-null float64\n",
      "retweeted_status_user_id      72 non-null float64\n",
      "retweeted_status_timestamp    72 non-null object\n",
      "expanded_urls                 2059 non-null object\n",
      "rating_numerator              2059 non-null int64\n",
      "rating_denominator            2059 non-null int64\n",
      "name                          2059 non-null object\n",
      "stage                         318 non-null category\n",
      "jpg_url                       2059 non-null object\n",
      "img_num                       2059 non-null int64\n",
      "pred_breed                    1460 non-null object\n",
      "retweet_count                 2059 non-null object\n",
      "favorite_count                2059 non-null object\n",
      "dtypes: category(1), float64(4), int64(4), object(10)\n",
      "memory usage: 308.0+ KB\n"
     ]
    }
   ],
   "source": [
    "main_df.info()"
   ]
  },
  {
   "cell_type": "markdown",
   "metadata": {},
   "source": [
    "### 5) Convert the tweet_id in master_df into object type as there is no use for maths operation in tweet_id"
   ]
  },
  {
   "cell_type": "code",
   "execution_count": 47,
   "metadata": {},
   "outputs": [],
   "source": [
    "main_df['tweet_id'] = main_df['tweet_id'].astype('object')"
   ]
  },
  {
   "cell_type": "code",
   "execution_count": 48,
   "metadata": {},
   "outputs": [
    {
     "name": "stdout",
     "output_type": "stream",
     "text": [
      "<class 'pandas.core.frame.DataFrame'>\n",
      "Int64Index: 2059 entries, 0 to 2058\n",
      "Data columns (total 19 columns):\n",
      "tweet_id                      2059 non-null object\n",
      "in_reply_to_status_id         23 non-null float64\n",
      "in_reply_to_user_id           23 non-null float64\n",
      "timestamp                     2059 non-null object\n",
      "source                        2059 non-null object\n",
      "text                          2059 non-null object\n",
      "retweeted_status_id           72 non-null float64\n",
      "retweeted_status_user_id      72 non-null float64\n",
      "retweeted_status_timestamp    72 non-null object\n",
      "expanded_urls                 2059 non-null object\n",
      "rating_numerator              2059 non-null int64\n",
      "rating_denominator            2059 non-null int64\n",
      "name                          2059 non-null object\n",
      "stage                         318 non-null category\n",
      "jpg_url                       2059 non-null object\n",
      "img_num                       2059 non-null int64\n",
      "pred_breed                    1460 non-null object\n",
      "retweet_count                 2059 non-null object\n",
      "favorite_count                2059 non-null object\n",
      "dtypes: category(1), float64(4), int64(3), object(11)\n",
      "memory usage: 308.0+ KB\n"
     ]
    }
   ],
   "source": [
    "main_df.info()"
   ]
  },
  {
   "cell_type": "markdown",
   "metadata": {},
   "source": [
    "### 6. Replace 'a', 'an', 'the', 'None' and other lower case words with NaN in name column"
   ]
  },
  {
   "cell_type": "code",
   "execution_count": 49,
   "metadata": {},
   "outputs": [],
   "source": [
    "words = main_df[main_df.name.str.islower()].name.unique()"
   ]
  },
  {
   "cell_type": "code",
   "execution_count": 50,
   "metadata": {},
   "outputs": [],
   "source": [
    "main_df['name'] = main_df['name'].replace(words, np.nan)\n",
    "main_df['name'] = main_df['name'].replace('None', np.nan)"
   ]
  },
  {
   "cell_type": "code",
   "execution_count": 51,
   "metadata": {},
   "outputs": [
    {
     "data": {
      "text/plain": [
       "0          Phineas\n",
       "1            Tilly\n",
       "2           Archie\n",
       "3            Darla\n",
       "4         Franklin\n",
       "6              Jax\n",
       "8             Zoey\n",
       "9           Cassie\n",
       "10            Koda\n",
       "11           Bruno\n",
       "13             Ted\n",
       "14          Stuart\n",
       "15          Oliver\n",
       "16             Jim\n",
       "17            Zeke\n",
       "18         Ralphus\n",
       "19          Gerald\n",
       "20         Jeffrey\n",
       "22          Canela\n",
       "25            Maya\n",
       "26          Mingus\n",
       "27           Derek\n",
       "28          Roscoe\n",
       "29         Waffles\n",
       "30           Jimbo\n",
       "31          Maisey\n",
       "32           Lilly\n",
       "34            Earl\n",
       "35            Lola\n",
       "36           Kevin\n",
       "           ...    \n",
       "1972          Dook\n",
       "1974          Hall\n",
       "1975      Philippe\n",
       "1978         Reese\n",
       "1979       Cupcake\n",
       "1983         Biden\n",
       "1984          Fwed\n",
       "1986     Genevieve\n",
       "1987        Joshwa\n",
       "1990       Timison\n",
       "1993      Clarence\n",
       "1994       Kenneth\n",
       "1995       Churlie\n",
       "1996       Bradlay\n",
       "1997         Pipsy\n",
       "1999          Gabe\n",
       "2000         Clybe\n",
       "2001          Dave\n",
       "2003          Keet\n",
       "2005        Klevin\n",
       "2006         Carll\n",
       "2011          Jeph\n",
       "2012       Jockson\n",
       "2015         Josep\n",
       "2016         Lugan\n",
       "2018    Christoper\n",
       "2020       Jimothy\n",
       "2021      Kreggory\n",
       "2022         Scout\n",
       "2028        Walter\n",
       "Name: name, Length: 1386, dtype: object"
      ]
     },
     "execution_count": 51,
     "metadata": {},
     "output_type": "execute_result"
    }
   ],
   "source": [
    "main_df['name'].dropna()"
   ]
  },
  {
   "cell_type": "code",
   "execution_count": 52,
   "metadata": {},
   "outputs": [
    {
     "data": {
      "text/plain": [
       "Cooper       10\n",
       "Penny        10\n",
       "Oliver       10\n",
       "Tucker       10\n",
       "Charlie      10\n",
       "Lucy          9\n",
       "Sadie         8\n",
       "Bo            8\n",
       "Lola          8\n",
       "Winston       8\n",
       "Daisy         7\n",
       "Toby          7\n",
       "Scout         6\n",
       "Stanley       6\n",
       "Koda          6\n",
       "Milo          6\n",
       "Bella         6\n",
       "Jax           6\n",
       "Dave          6\n",
       "Rusty         6\n",
       "Bailey        6\n",
       "Louis         5\n",
       "Alfie         5\n",
       "Oscar         5\n",
       "Larry         5\n",
       "Leo           5\n",
       "Buddy         5\n",
       "Chester       5\n",
       "Sophie        4\n",
       "Bear          4\n",
       "             ..\n",
       "Barney        1\n",
       "Strider       1\n",
       "Miguel        1\n",
       "Ridley        1\n",
       "Chaz          1\n",
       "Kota          1\n",
       "Mairi         1\n",
       "Enchilada     1\n",
       "Mattie        1\n",
       "Brudge        1\n",
       "Noosh         1\n",
       "Bodie         1\n",
       "Huck          1\n",
       "Alexander     1\n",
       "Mojo          1\n",
       "Venti         1\n",
       "Schnozz       1\n",
       "Howie         1\n",
       "Bode          1\n",
       "Keurig        1\n",
       "Rodney        1\n",
       "Lilah         1\n",
       "Nida          1\n",
       "Pawnd         1\n",
       "Shawwn        1\n",
       "Samsom        1\n",
       "Harrison      1\n",
       "Reagan        1\n",
       "Burt          1\n",
       "Lucky         1\n",
       "Name: name, Length: 911, dtype: int64"
      ]
     },
     "execution_count": 52,
     "metadata": {},
     "output_type": "execute_result"
    }
   ],
   "source": [
    "main_df.name.value_counts()"
   ]
  },
  {
   "cell_type": "markdown",
   "metadata": {},
   "source": [
    "### 7) Delete Retweets"
   ]
  },
  {
   "cell_type": "code",
   "execution_count": 53,
   "metadata": {},
   "outputs": [],
   "source": [
    "# Delete the rows which contains retweets\n",
    "main_df = main_df.drop(main_df[(main_df['in_reply_to_status_id'].isnull() == False) | (main_df['retweeted_status_id'].isnull() == False)].index)"
   ]
  },
  {
   "cell_type": "code",
   "execution_count": 54,
   "metadata": {},
   "outputs": [
    {
     "data": {
      "text/plain": [
       "1964"
      ]
     },
     "execution_count": 54,
     "metadata": {},
     "output_type": "execute_result"
    }
   ],
   "source": [
    "main_df.shape[0]"
   ]
  },
  {
   "cell_type": "code",
   "execution_count": 55,
   "metadata": {},
   "outputs": [
    {
     "data": {
      "text/plain": [
       "(1964, 19)"
      ]
     },
     "execution_count": 55,
     "metadata": {},
     "output_type": "execute_result"
    }
   ],
   "source": [
    "main_df.shape"
   ]
  },
  {
   "cell_type": "markdown",
   "metadata": {},
   "source": [
    "### 8) Remove columns no longer needed: in_reply_to_status_id, in_reply_to_user_id, retweeted_status_id, retweeted_status_user_id, and retweeted_status_timestamp"
   ]
  },
  {
   "cell_type": "code",
   "execution_count": 56,
   "metadata": {},
   "outputs": [],
   "source": [
    "# drop the reply status and retweet status columns\n",
    "main_df.drop(['in_reply_to_status_id', 'in_reply_to_user_id','retweeted_status_id', 'retweeted_status_user_id',\n",
    "       'retweeted_status_timestamp'], axis=1, inplace=True)"
   ]
  },
  {
   "cell_type": "code",
   "execution_count": 57,
   "metadata": {},
   "outputs": [
    {
     "data": {
      "text/plain": [
       "Index(['tweet_id', 'timestamp', 'source', 'text', 'expanded_urls',\n",
       "       'rating_numerator', 'rating_denominator', 'name', 'stage', 'jpg_url',\n",
       "       'img_num', 'pred_breed', 'retweet_count', 'favorite_count'],\n",
       "      dtype='object')"
      ]
     },
     "execution_count": 57,
     "metadata": {},
     "output_type": "execute_result"
    }
   ],
   "source": [
    "main_df.columns"
   ]
  },
  {
   "cell_type": "code",
   "execution_count": 58,
   "metadata": {},
   "outputs": [
    {
     "name": "stdout",
     "output_type": "stream",
     "text": [
      "<class 'pandas.core.frame.DataFrame'>\n",
      "Int64Index: 1964 entries, 0 to 2058\n",
      "Data columns (total 14 columns):\n",
      "tweet_id              1964 non-null object\n",
      "timestamp             1964 non-null object\n",
      "source                1964 non-null object\n",
      "text                  1964 non-null object\n",
      "expanded_urls         1964 non-null object\n",
      "rating_numerator      1964 non-null int64\n",
      "rating_denominator    1964 non-null int64\n",
      "name                  1342 non-null object\n",
      "stage                 302 non-null category\n",
      "jpg_url               1964 non-null object\n",
      "img_num               1964 non-null int64\n",
      "pred_breed            1395 non-null object\n",
      "retweet_count         1964 non-null object\n",
      "favorite_count        1964 non-null object\n",
      "dtypes: category(1), int64(3), object(10)\n",
      "memory usage: 217.1+ KB\n"
     ]
    }
   ],
   "source": [
    "main_df.info()"
   ]
  },
  {
   "cell_type": "markdown",
   "metadata": {},
   "source": [
    "### 9) Change the timestamp to correct datetime format"
   ]
  },
  {
   "cell_type": "code",
   "execution_count": 59,
   "metadata": {},
   "outputs": [
    {
     "data": {
      "text/plain": [
       "842     2016-06-17 00:05:25 +0000\n",
       "1991    2015-11-19 03:10:02 +0000\n",
       "198     2017-03-23 18:07:10 +0000\n",
       "596     2016-09-21 17:42:10 +0000\n",
       "1038    2016-03-17 00:58:46 +0000\n",
       "Name: timestamp, dtype: object"
      ]
     },
     "execution_count": 59,
     "metadata": {},
     "output_type": "execute_result"
    }
   ],
   "source": [
    "main_df['timestamp'].sample(5)"
   ]
  },
  {
   "cell_type": "code",
   "execution_count": 60,
   "metadata": {},
   "outputs": [],
   "source": [
    "main_df['timestamp'] = pd.to_datetime(main_df['timestamp'], format='%Y-%m-%d %H:%M:%S')"
   ]
  },
  {
   "cell_type": "code",
   "execution_count": 61,
   "metadata": {},
   "outputs": [
    {
     "data": {
      "text/plain": [
       "260    2017-02-16 17:00:25\n",
       "1887   2015-11-24 03:29:51\n",
       "64     2017-06-23 16:00:04\n",
       "344    2017-01-12 00:55:47\n",
       "363    2017-01-05 21:29:55\n",
       "Name: timestamp, dtype: datetime64[ns]"
      ]
     },
     "execution_count": 61,
     "metadata": {},
     "output_type": "execute_result"
    }
   ],
   "source": [
    "main_df['timestamp'].sample(5)"
   ]
  },
  {
   "cell_type": "code",
   "execution_count": 62,
   "metadata": {},
   "outputs": [
    {
     "data": {
      "text/plain": [
       "count                    1964\n",
       "unique                   1964\n",
       "top       2016-08-04 22:52:29\n",
       "freq                        1\n",
       "first     2015-11-15 22:32:08\n",
       "last      2017-08-01 16:23:56\n",
       "Name: timestamp, dtype: object"
      ]
     },
     "execution_count": 62,
     "metadata": {},
     "output_type": "execute_result"
    }
   ],
   "source": [
    "main_df['timestamp'].describe()"
   ]
  },
  {
   "cell_type": "markdown",
   "metadata": {},
   "source": [
    "### 10) Removing HTML tags from source column"
   ]
  },
  {
   "cell_type": "code",
   "execution_count": 63,
   "metadata": {},
   "outputs": [],
   "source": [
    "href = main_df[\"source\"].str.split('\"', expand = True)\n",
    "main_df[\"source\"] = href[1]"
   ]
  },
  {
   "cell_type": "code",
   "execution_count": 64,
   "metadata": {},
   "outputs": [
    {
     "data": {
      "text/html": [
       "<div>\n",
       "<style scoped>\n",
       "    .dataframe tbody tr th:only-of-type {\n",
       "        vertical-align: middle;\n",
       "    }\n",
       "\n",
       "    .dataframe tbody tr th {\n",
       "        vertical-align: top;\n",
       "    }\n",
       "\n",
       "    .dataframe thead th {\n",
       "        text-align: right;\n",
       "    }\n",
       "</style>\n",
       "<table border=\"1\" class=\"dataframe\">\n",
       "  <thead>\n",
       "    <tr style=\"text-align: right;\">\n",
       "      <th></th>\n",
       "      <th>tweet_id</th>\n",
       "      <th>timestamp</th>\n",
       "      <th>source</th>\n",
       "      <th>text</th>\n",
       "      <th>expanded_urls</th>\n",
       "      <th>rating_numerator</th>\n",
       "      <th>rating_denominator</th>\n",
       "      <th>name</th>\n",
       "      <th>stage</th>\n",
       "      <th>jpg_url</th>\n",
       "      <th>img_num</th>\n",
       "      <th>pred_breed</th>\n",
       "      <th>retweet_count</th>\n",
       "      <th>favorite_count</th>\n",
       "    </tr>\n",
       "  </thead>\n",
       "  <tbody>\n",
       "    <tr>\n",
       "      <th>0</th>\n",
       "      <td>892420643555336193</td>\n",
       "      <td>2017-08-01 16:23:56</td>\n",
       "      <td>http://twitter.com/download/iphone</td>\n",
       "      <td>This is Phineas. He's a mystical boy. Only eve...</td>\n",
       "      <td>https://twitter.com/dog_rates/status/892420643...</td>\n",
       "      <td>13</td>\n",
       "      <td>10</td>\n",
       "      <td>Phineas</td>\n",
       "      <td>NaN</td>\n",
       "      <td>https://pbs.twimg.com/media/DGKD1-bXoAAIAUK.jpg</td>\n",
       "      <td>1</td>\n",
       "      <td>NaN</td>\n",
       "      <td>7437</td>\n",
       "      <td>35276</td>\n",
       "    </tr>\n",
       "    <tr>\n",
       "      <th>1</th>\n",
       "      <td>892177421306343426</td>\n",
       "      <td>2017-08-01 00:17:27</td>\n",
       "      <td>http://twitter.com/download/iphone</td>\n",
       "      <td>This is Tilly. She's just checking pup on you....</td>\n",
       "      <td>https://twitter.com/dog_rates/status/892177421...</td>\n",
       "      <td>13</td>\n",
       "      <td>10</td>\n",
       "      <td>Tilly</td>\n",
       "      <td>NaN</td>\n",
       "      <td>https://pbs.twimg.com/media/DGGmoV4XsAAUL6n.jpg</td>\n",
       "      <td>1</td>\n",
       "      <td>Chihuahua</td>\n",
       "      <td>5527</td>\n",
       "      <td>30527</td>\n",
       "    </tr>\n",
       "    <tr>\n",
       "      <th>2</th>\n",
       "      <td>891815181378084864</td>\n",
       "      <td>2017-07-31 00:18:03</td>\n",
       "      <td>http://twitter.com/download/iphone</td>\n",
       "      <td>This is Archie. He is a rare Norwegian Pouncin...</td>\n",
       "      <td>https://twitter.com/dog_rates/status/891815181...</td>\n",
       "      <td>12</td>\n",
       "      <td>10</td>\n",
       "      <td>Archie</td>\n",
       "      <td>NaN</td>\n",
       "      <td>https://pbs.twimg.com/media/DGBdLU1WsAANxJ9.jpg</td>\n",
       "      <td>1</td>\n",
       "      <td>Chihuahua</td>\n",
       "      <td>3652</td>\n",
       "      <td>22954</td>\n",
       "    </tr>\n",
       "    <tr>\n",
       "      <th>3</th>\n",
       "      <td>891689557279858688</td>\n",
       "      <td>2017-07-30 15:58:51</td>\n",
       "      <td>http://twitter.com/download/iphone</td>\n",
       "      <td>This is Darla. She commenced a snooze mid meal...</td>\n",
       "      <td>https://twitter.com/dog_rates/status/891689557...</td>\n",
       "      <td>13</td>\n",
       "      <td>10</td>\n",
       "      <td>Darla</td>\n",
       "      <td>NaN</td>\n",
       "      <td>https://pbs.twimg.com/media/DF_q7IAWsAEuuN8.jpg</td>\n",
       "      <td>1</td>\n",
       "      <td>NaN</td>\n",
       "      <td>7616</td>\n",
       "      <td>38561</td>\n",
       "    </tr>\n",
       "    <tr>\n",
       "      <th>4</th>\n",
       "      <td>891327558926688256</td>\n",
       "      <td>2017-07-29 16:00:24</td>\n",
       "      <td>http://twitter.com/download/iphone</td>\n",
       "      <td>This is Franklin. He would like you to stop ca...</td>\n",
       "      <td>https://twitter.com/dog_rates/status/891327558...</td>\n",
       "      <td>12</td>\n",
       "      <td>10</td>\n",
       "      <td>Franklin</td>\n",
       "      <td>NaN</td>\n",
       "      <td>https://pbs.twimg.com/media/DF6hr6BUMAAzZgT.jpg</td>\n",
       "      <td>2</td>\n",
       "      <td>basset</td>\n",
       "      <td>8197</td>\n",
       "      <td>36842</td>\n",
       "    </tr>\n",
       "  </tbody>\n",
       "</table>\n",
       "</div>"
      ],
      "text/plain": [
       "             tweet_id           timestamp                              source  \\\n",
       "0  892420643555336193 2017-08-01 16:23:56  http://twitter.com/download/iphone   \n",
       "1  892177421306343426 2017-08-01 00:17:27  http://twitter.com/download/iphone   \n",
       "2  891815181378084864 2017-07-31 00:18:03  http://twitter.com/download/iphone   \n",
       "3  891689557279858688 2017-07-30 15:58:51  http://twitter.com/download/iphone   \n",
       "4  891327558926688256 2017-07-29 16:00:24  http://twitter.com/download/iphone   \n",
       "\n",
       "                                                text  \\\n",
       "0  This is Phineas. He's a mystical boy. Only eve...   \n",
       "1  This is Tilly. She's just checking pup on you....   \n",
       "2  This is Archie. He is a rare Norwegian Pouncin...   \n",
       "3  This is Darla. She commenced a snooze mid meal...   \n",
       "4  This is Franklin. He would like you to stop ca...   \n",
       "\n",
       "                                       expanded_urls  rating_numerator  \\\n",
       "0  https://twitter.com/dog_rates/status/892420643...                13   \n",
       "1  https://twitter.com/dog_rates/status/892177421...                13   \n",
       "2  https://twitter.com/dog_rates/status/891815181...                12   \n",
       "3  https://twitter.com/dog_rates/status/891689557...                13   \n",
       "4  https://twitter.com/dog_rates/status/891327558...                12   \n",
       "\n",
       "   rating_denominator      name stage  \\\n",
       "0                  10   Phineas   NaN   \n",
       "1                  10     Tilly   NaN   \n",
       "2                  10    Archie   NaN   \n",
       "3                  10     Darla   NaN   \n",
       "4                  10  Franklin   NaN   \n",
       "\n",
       "                                           jpg_url  img_num pred_breed  \\\n",
       "0  https://pbs.twimg.com/media/DGKD1-bXoAAIAUK.jpg        1        NaN   \n",
       "1  https://pbs.twimg.com/media/DGGmoV4XsAAUL6n.jpg        1  Chihuahua   \n",
       "2  https://pbs.twimg.com/media/DGBdLU1WsAANxJ9.jpg        1  Chihuahua   \n",
       "3  https://pbs.twimg.com/media/DF_q7IAWsAEuuN8.jpg        1        NaN   \n",
       "4  https://pbs.twimg.com/media/DF6hr6BUMAAzZgT.jpg        2     basset   \n",
       "\n",
       "  retweet_count favorite_count  \n",
       "0          7437          35276  \n",
       "1          5527          30527  \n",
       "2          3652          22954  \n",
       "3          7616          38561  \n",
       "4          8197          36842  "
      ]
     },
     "execution_count": 64,
     "metadata": {},
     "output_type": "execute_result"
    }
   ],
   "source": [
    "main_df.head()"
   ]
  },
  {
   "cell_type": "code",
   "execution_count": 65,
   "metadata": {},
   "outputs": [
    {
     "data": {
      "text/html": [
       "<div>\n",
       "<style scoped>\n",
       "    .dataframe tbody tr th:only-of-type {\n",
       "        vertical-align: middle;\n",
       "    }\n",
       "\n",
       "    .dataframe tbody tr th {\n",
       "        vertical-align: top;\n",
       "    }\n",
       "\n",
       "    .dataframe thead th {\n",
       "        text-align: right;\n",
       "    }\n",
       "</style>\n",
       "<table border=\"1\" class=\"dataframe\">\n",
       "  <thead>\n",
       "    <tr style=\"text-align: right;\">\n",
       "      <th></th>\n",
       "      <th>0</th>\n",
       "      <th>1</th>\n",
       "      <th>2</th>\n",
       "      <th>3</th>\n",
       "      <th>4</th>\n",
       "    </tr>\n",
       "  </thead>\n",
       "  <tbody>\n",
       "    <tr>\n",
       "      <th>0</th>\n",
       "      <td>&lt;a href=</td>\n",
       "      <td>http://twitter.com/download/iphone</td>\n",
       "      <td>rel=</td>\n",
       "      <td>nofollow</td>\n",
       "      <td>&gt;Twitter for iPhone&lt;/a&gt;</td>\n",
       "    </tr>\n",
       "    <tr>\n",
       "      <th>1</th>\n",
       "      <td>&lt;a href=</td>\n",
       "      <td>http://twitter.com/download/iphone</td>\n",
       "      <td>rel=</td>\n",
       "      <td>nofollow</td>\n",
       "      <td>&gt;Twitter for iPhone&lt;/a&gt;</td>\n",
       "    </tr>\n",
       "    <tr>\n",
       "      <th>2</th>\n",
       "      <td>&lt;a href=</td>\n",
       "      <td>http://twitter.com/download/iphone</td>\n",
       "      <td>rel=</td>\n",
       "      <td>nofollow</td>\n",
       "      <td>&gt;Twitter for iPhone&lt;/a&gt;</td>\n",
       "    </tr>\n",
       "    <tr>\n",
       "      <th>3</th>\n",
       "      <td>&lt;a href=</td>\n",
       "      <td>http://twitter.com/download/iphone</td>\n",
       "      <td>rel=</td>\n",
       "      <td>nofollow</td>\n",
       "      <td>&gt;Twitter for iPhone&lt;/a&gt;</td>\n",
       "    </tr>\n",
       "    <tr>\n",
       "      <th>4</th>\n",
       "      <td>&lt;a href=</td>\n",
       "      <td>http://twitter.com/download/iphone</td>\n",
       "      <td>rel=</td>\n",
       "      <td>nofollow</td>\n",
       "      <td>&gt;Twitter for iPhone&lt;/a&gt;</td>\n",
       "    </tr>\n",
       "    <tr>\n",
       "      <th>5</th>\n",
       "      <td>&lt;a href=</td>\n",
       "      <td>http://twitter.com/download/iphone</td>\n",
       "      <td>rel=</td>\n",
       "      <td>nofollow</td>\n",
       "      <td>&gt;Twitter for iPhone&lt;/a&gt;</td>\n",
       "    </tr>\n",
       "    <tr>\n",
       "      <th>6</th>\n",
       "      <td>&lt;a href=</td>\n",
       "      <td>http://twitter.com/download/iphone</td>\n",
       "      <td>rel=</td>\n",
       "      <td>nofollow</td>\n",
       "      <td>&gt;Twitter for iPhone&lt;/a&gt;</td>\n",
       "    </tr>\n",
       "    <tr>\n",
       "      <th>7</th>\n",
       "      <td>&lt;a href=</td>\n",
       "      <td>http://twitter.com/download/iphone</td>\n",
       "      <td>rel=</td>\n",
       "      <td>nofollow</td>\n",
       "      <td>&gt;Twitter for iPhone&lt;/a&gt;</td>\n",
       "    </tr>\n",
       "    <tr>\n",
       "      <th>8</th>\n",
       "      <td>&lt;a href=</td>\n",
       "      <td>http://twitter.com/download/iphone</td>\n",
       "      <td>rel=</td>\n",
       "      <td>nofollow</td>\n",
       "      <td>&gt;Twitter for iPhone&lt;/a&gt;</td>\n",
       "    </tr>\n",
       "    <tr>\n",
       "      <th>9</th>\n",
       "      <td>&lt;a href=</td>\n",
       "      <td>http://twitter.com/download/iphone</td>\n",
       "      <td>rel=</td>\n",
       "      <td>nofollow</td>\n",
       "      <td>&gt;Twitter for iPhone&lt;/a&gt;</td>\n",
       "    </tr>\n",
       "    <tr>\n",
       "      <th>10</th>\n",
       "      <td>&lt;a href=</td>\n",
       "      <td>http://twitter.com/download/iphone</td>\n",
       "      <td>rel=</td>\n",
       "      <td>nofollow</td>\n",
       "      <td>&gt;Twitter for iPhone&lt;/a&gt;</td>\n",
       "    </tr>\n",
       "    <tr>\n",
       "      <th>11</th>\n",
       "      <td>&lt;a href=</td>\n",
       "      <td>http://twitter.com/download/iphone</td>\n",
       "      <td>rel=</td>\n",
       "      <td>nofollow</td>\n",
       "      <td>&gt;Twitter for iPhone&lt;/a&gt;</td>\n",
       "    </tr>\n",
       "    <tr>\n",
       "      <th>12</th>\n",
       "      <td>&lt;a href=</td>\n",
       "      <td>http://twitter.com/download/iphone</td>\n",
       "      <td>rel=</td>\n",
       "      <td>nofollow</td>\n",
       "      <td>&gt;Twitter for iPhone&lt;/a&gt;</td>\n",
       "    </tr>\n",
       "    <tr>\n",
       "      <th>13</th>\n",
       "      <td>&lt;a href=</td>\n",
       "      <td>http://twitter.com/download/iphone</td>\n",
       "      <td>rel=</td>\n",
       "      <td>nofollow</td>\n",
       "      <td>&gt;Twitter for iPhone&lt;/a&gt;</td>\n",
       "    </tr>\n",
       "    <tr>\n",
       "      <th>14</th>\n",
       "      <td>&lt;a href=</td>\n",
       "      <td>http://twitter.com/download/iphone</td>\n",
       "      <td>rel=</td>\n",
       "      <td>nofollow</td>\n",
       "      <td>&gt;Twitter for iPhone&lt;/a&gt;</td>\n",
       "    </tr>\n",
       "    <tr>\n",
       "      <th>15</th>\n",
       "      <td>&lt;a href=</td>\n",
       "      <td>http://twitter.com/download/iphone</td>\n",
       "      <td>rel=</td>\n",
       "      <td>nofollow</td>\n",
       "      <td>&gt;Twitter for iPhone&lt;/a&gt;</td>\n",
       "    </tr>\n",
       "    <tr>\n",
       "      <th>16</th>\n",
       "      <td>&lt;a href=</td>\n",
       "      <td>http://twitter.com/download/iphone</td>\n",
       "      <td>rel=</td>\n",
       "      <td>nofollow</td>\n",
       "      <td>&gt;Twitter for iPhone&lt;/a&gt;</td>\n",
       "    </tr>\n",
       "    <tr>\n",
       "      <th>17</th>\n",
       "      <td>&lt;a href=</td>\n",
       "      <td>http://twitter.com/download/iphone</td>\n",
       "      <td>rel=</td>\n",
       "      <td>nofollow</td>\n",
       "      <td>&gt;Twitter for iPhone&lt;/a&gt;</td>\n",
       "    </tr>\n",
       "    <tr>\n",
       "      <th>18</th>\n",
       "      <td>&lt;a href=</td>\n",
       "      <td>http://twitter.com/download/iphone</td>\n",
       "      <td>rel=</td>\n",
       "      <td>nofollow</td>\n",
       "      <td>&gt;Twitter for iPhone&lt;/a&gt;</td>\n",
       "    </tr>\n",
       "    <tr>\n",
       "      <th>19</th>\n",
       "      <td>&lt;a href=</td>\n",
       "      <td>http://twitter.com/download/iphone</td>\n",
       "      <td>rel=</td>\n",
       "      <td>nofollow</td>\n",
       "      <td>&gt;Twitter for iPhone&lt;/a&gt;</td>\n",
       "    </tr>\n",
       "    <tr>\n",
       "      <th>20</th>\n",
       "      <td>&lt;a href=</td>\n",
       "      <td>http://twitter.com/download/iphone</td>\n",
       "      <td>rel=</td>\n",
       "      <td>nofollow</td>\n",
       "      <td>&gt;Twitter for iPhone&lt;/a&gt;</td>\n",
       "    </tr>\n",
       "    <tr>\n",
       "      <th>21</th>\n",
       "      <td>&lt;a href=</td>\n",
       "      <td>http://twitter.com/download/iphone</td>\n",
       "      <td>rel=</td>\n",
       "      <td>nofollow</td>\n",
       "      <td>&gt;Twitter for iPhone&lt;/a&gt;</td>\n",
       "    </tr>\n",
       "    <tr>\n",
       "      <th>22</th>\n",
       "      <td>&lt;a href=</td>\n",
       "      <td>http://twitter.com/download/iphone</td>\n",
       "      <td>rel=</td>\n",
       "      <td>nofollow</td>\n",
       "      <td>&gt;Twitter for iPhone&lt;/a&gt;</td>\n",
       "    </tr>\n",
       "    <tr>\n",
       "      <th>23</th>\n",
       "      <td>&lt;a href=</td>\n",
       "      <td>http://twitter.com/download/iphone</td>\n",
       "      <td>rel=</td>\n",
       "      <td>nofollow</td>\n",
       "      <td>&gt;Twitter for iPhone&lt;/a&gt;</td>\n",
       "    </tr>\n",
       "    <tr>\n",
       "      <th>24</th>\n",
       "      <td>&lt;a href=</td>\n",
       "      <td>http://twitter.com/download/iphone</td>\n",
       "      <td>rel=</td>\n",
       "      <td>nofollow</td>\n",
       "      <td>&gt;Twitter for iPhone&lt;/a&gt;</td>\n",
       "    </tr>\n",
       "    <tr>\n",
       "      <th>25</th>\n",
       "      <td>&lt;a href=</td>\n",
       "      <td>http://twitter.com/download/iphone</td>\n",
       "      <td>rel=</td>\n",
       "      <td>nofollow</td>\n",
       "      <td>&gt;Twitter for iPhone&lt;/a&gt;</td>\n",
       "    </tr>\n",
       "    <tr>\n",
       "      <th>26</th>\n",
       "      <td>&lt;a href=</td>\n",
       "      <td>http://twitter.com/download/iphone</td>\n",
       "      <td>rel=</td>\n",
       "      <td>nofollow</td>\n",
       "      <td>&gt;Twitter for iPhone&lt;/a&gt;</td>\n",
       "    </tr>\n",
       "    <tr>\n",
       "      <th>27</th>\n",
       "      <td>&lt;a href=</td>\n",
       "      <td>http://twitter.com/download/iphone</td>\n",
       "      <td>rel=</td>\n",
       "      <td>nofollow</td>\n",
       "      <td>&gt;Twitter for iPhone&lt;/a&gt;</td>\n",
       "    </tr>\n",
       "    <tr>\n",
       "      <th>28</th>\n",
       "      <td>&lt;a href=</td>\n",
       "      <td>http://twitter.com/download/iphone</td>\n",
       "      <td>rel=</td>\n",
       "      <td>nofollow</td>\n",
       "      <td>&gt;Twitter for iPhone&lt;/a&gt;</td>\n",
       "    </tr>\n",
       "    <tr>\n",
       "      <th>29</th>\n",
       "      <td>&lt;a href=</td>\n",
       "      <td>http://twitter.com/download/iphone</td>\n",
       "      <td>rel=</td>\n",
       "      <td>nofollow</td>\n",
       "      <td>&gt;Twitter for iPhone&lt;/a&gt;</td>\n",
       "    </tr>\n",
       "    <tr>\n",
       "      <th>...</th>\n",
       "      <td>...</td>\n",
       "      <td>...</td>\n",
       "      <td>...</td>\n",
       "      <td>...</td>\n",
       "      <td>...</td>\n",
       "    </tr>\n",
       "    <tr>\n",
       "      <th>2029</th>\n",
       "      <td>&lt;a href=</td>\n",
       "      <td>http://twitter.com/download/iphone</td>\n",
       "      <td>rel=</td>\n",
       "      <td>nofollow</td>\n",
       "      <td>&gt;Twitter for iPhone&lt;/a&gt;</td>\n",
       "    </tr>\n",
       "    <tr>\n",
       "      <th>2030</th>\n",
       "      <td>&lt;a href=</td>\n",
       "      <td>http://twitter.com/download/iphone</td>\n",
       "      <td>rel=</td>\n",
       "      <td>nofollow</td>\n",
       "      <td>&gt;Twitter for iPhone&lt;/a&gt;</td>\n",
       "    </tr>\n",
       "    <tr>\n",
       "      <th>2031</th>\n",
       "      <td>&lt;a href=</td>\n",
       "      <td>http://twitter.com/download/iphone</td>\n",
       "      <td>rel=</td>\n",
       "      <td>nofollow</td>\n",
       "      <td>&gt;Twitter for iPhone&lt;/a&gt;</td>\n",
       "    </tr>\n",
       "    <tr>\n",
       "      <th>2032</th>\n",
       "      <td>&lt;a href=</td>\n",
       "      <td>http://twitter.com/download/iphone</td>\n",
       "      <td>rel=</td>\n",
       "      <td>nofollow</td>\n",
       "      <td>&gt;Twitter for iPhone&lt;/a&gt;</td>\n",
       "    </tr>\n",
       "    <tr>\n",
       "      <th>2033</th>\n",
       "      <td>&lt;a href=</td>\n",
       "      <td>http://twitter.com/download/iphone</td>\n",
       "      <td>rel=</td>\n",
       "      <td>nofollow</td>\n",
       "      <td>&gt;Twitter for iPhone&lt;/a&gt;</td>\n",
       "    </tr>\n",
       "    <tr>\n",
       "      <th>2034</th>\n",
       "      <td>&lt;a href=</td>\n",
       "      <td>http://twitter.com/download/iphone</td>\n",
       "      <td>rel=</td>\n",
       "      <td>nofollow</td>\n",
       "      <td>&gt;Twitter for iPhone&lt;/a&gt;</td>\n",
       "    </tr>\n",
       "    <tr>\n",
       "      <th>2035</th>\n",
       "      <td>&lt;a href=</td>\n",
       "      <td>http://twitter.com/download/iphone</td>\n",
       "      <td>rel=</td>\n",
       "      <td>nofollow</td>\n",
       "      <td>&gt;Twitter for iPhone&lt;/a&gt;</td>\n",
       "    </tr>\n",
       "    <tr>\n",
       "      <th>2036</th>\n",
       "      <td>&lt;a href=</td>\n",
       "      <td>http://twitter.com/download/iphone</td>\n",
       "      <td>rel=</td>\n",
       "      <td>nofollow</td>\n",
       "      <td>&gt;Twitter for iPhone&lt;/a&gt;</td>\n",
       "    </tr>\n",
       "    <tr>\n",
       "      <th>2037</th>\n",
       "      <td>&lt;a href=</td>\n",
       "      <td>http://twitter.com/download/iphone</td>\n",
       "      <td>rel=</td>\n",
       "      <td>nofollow</td>\n",
       "      <td>&gt;Twitter for iPhone&lt;/a&gt;</td>\n",
       "    </tr>\n",
       "    <tr>\n",
       "      <th>2038</th>\n",
       "      <td>&lt;a href=</td>\n",
       "      <td>http://twitter.com/download/iphone</td>\n",
       "      <td>rel=</td>\n",
       "      <td>nofollow</td>\n",
       "      <td>&gt;Twitter for iPhone&lt;/a&gt;</td>\n",
       "    </tr>\n",
       "    <tr>\n",
       "      <th>2039</th>\n",
       "      <td>&lt;a href=</td>\n",
       "      <td>http://twitter.com/download/iphone</td>\n",
       "      <td>rel=</td>\n",
       "      <td>nofollow</td>\n",
       "      <td>&gt;Twitter for iPhone&lt;/a&gt;</td>\n",
       "    </tr>\n",
       "    <tr>\n",
       "      <th>2040</th>\n",
       "      <td>&lt;a href=</td>\n",
       "      <td>http://twitter.com/download/iphone</td>\n",
       "      <td>rel=</td>\n",
       "      <td>nofollow</td>\n",
       "      <td>&gt;Twitter for iPhone&lt;/a&gt;</td>\n",
       "    </tr>\n",
       "    <tr>\n",
       "      <th>2041</th>\n",
       "      <td>&lt;a href=</td>\n",
       "      <td>http://twitter.com/download/iphone</td>\n",
       "      <td>rel=</td>\n",
       "      <td>nofollow</td>\n",
       "      <td>&gt;Twitter for iPhone&lt;/a&gt;</td>\n",
       "    </tr>\n",
       "    <tr>\n",
       "      <th>2042</th>\n",
       "      <td>&lt;a href=</td>\n",
       "      <td>http://twitter.com/download/iphone</td>\n",
       "      <td>rel=</td>\n",
       "      <td>nofollow</td>\n",
       "      <td>&gt;Twitter for iPhone&lt;/a&gt;</td>\n",
       "    </tr>\n",
       "    <tr>\n",
       "      <th>2043</th>\n",
       "      <td>&lt;a href=</td>\n",
       "      <td>http://twitter.com/download/iphone</td>\n",
       "      <td>rel=</td>\n",
       "      <td>nofollow</td>\n",
       "      <td>&gt;Twitter for iPhone&lt;/a&gt;</td>\n",
       "    </tr>\n",
       "    <tr>\n",
       "      <th>2044</th>\n",
       "      <td>&lt;a href=</td>\n",
       "      <td>http://twitter.com/download/iphone</td>\n",
       "      <td>rel=</td>\n",
       "      <td>nofollow</td>\n",
       "      <td>&gt;Twitter for iPhone&lt;/a&gt;</td>\n",
       "    </tr>\n",
       "    <tr>\n",
       "      <th>2045</th>\n",
       "      <td>&lt;a href=</td>\n",
       "      <td>http://twitter.com/download/iphone</td>\n",
       "      <td>rel=</td>\n",
       "      <td>nofollow</td>\n",
       "      <td>&gt;Twitter for iPhone&lt;/a&gt;</td>\n",
       "    </tr>\n",
       "    <tr>\n",
       "      <th>2046</th>\n",
       "      <td>&lt;a href=</td>\n",
       "      <td>http://twitter.com/download/iphone</td>\n",
       "      <td>rel=</td>\n",
       "      <td>nofollow</td>\n",
       "      <td>&gt;Twitter for iPhone&lt;/a&gt;</td>\n",
       "    </tr>\n",
       "    <tr>\n",
       "      <th>2047</th>\n",
       "      <td>&lt;a href=</td>\n",
       "      <td>http://twitter.com/download/iphone</td>\n",
       "      <td>rel=</td>\n",
       "      <td>nofollow</td>\n",
       "      <td>&gt;Twitter for iPhone&lt;/a&gt;</td>\n",
       "    </tr>\n",
       "    <tr>\n",
       "      <th>2048</th>\n",
       "      <td>&lt;a href=</td>\n",
       "      <td>http://twitter.com/download/iphone</td>\n",
       "      <td>rel=</td>\n",
       "      <td>nofollow</td>\n",
       "      <td>&gt;Twitter for iPhone&lt;/a&gt;</td>\n",
       "    </tr>\n",
       "    <tr>\n",
       "      <th>2049</th>\n",
       "      <td>&lt;a href=</td>\n",
       "      <td>http://twitter.com/download/iphone</td>\n",
       "      <td>rel=</td>\n",
       "      <td>nofollow</td>\n",
       "      <td>&gt;Twitter for iPhone&lt;/a&gt;</td>\n",
       "    </tr>\n",
       "    <tr>\n",
       "      <th>2050</th>\n",
       "      <td>&lt;a href=</td>\n",
       "      <td>http://twitter.com/download/iphone</td>\n",
       "      <td>rel=</td>\n",
       "      <td>nofollow</td>\n",
       "      <td>&gt;Twitter for iPhone&lt;/a&gt;</td>\n",
       "    </tr>\n",
       "    <tr>\n",
       "      <th>2051</th>\n",
       "      <td>&lt;a href=</td>\n",
       "      <td>http://twitter.com/download/iphone</td>\n",
       "      <td>rel=</td>\n",
       "      <td>nofollow</td>\n",
       "      <td>&gt;Twitter for iPhone&lt;/a&gt;</td>\n",
       "    </tr>\n",
       "    <tr>\n",
       "      <th>2052</th>\n",
       "      <td>&lt;a href=</td>\n",
       "      <td>http://twitter.com/download/iphone</td>\n",
       "      <td>rel=</td>\n",
       "      <td>nofollow</td>\n",
       "      <td>&gt;Twitter for iPhone&lt;/a&gt;</td>\n",
       "    </tr>\n",
       "    <tr>\n",
       "      <th>2053</th>\n",
       "      <td>&lt;a href=</td>\n",
       "      <td>http://twitter.com/download/iphone</td>\n",
       "      <td>rel=</td>\n",
       "      <td>nofollow</td>\n",
       "      <td>&gt;Twitter for iPhone&lt;/a&gt;</td>\n",
       "    </tr>\n",
       "    <tr>\n",
       "      <th>2054</th>\n",
       "      <td>&lt;a href=</td>\n",
       "      <td>http://twitter.com/download/iphone</td>\n",
       "      <td>rel=</td>\n",
       "      <td>nofollow</td>\n",
       "      <td>&gt;Twitter for iPhone&lt;/a&gt;</td>\n",
       "    </tr>\n",
       "    <tr>\n",
       "      <th>2055</th>\n",
       "      <td>&lt;a href=</td>\n",
       "      <td>http://twitter.com/download/iphone</td>\n",
       "      <td>rel=</td>\n",
       "      <td>nofollow</td>\n",
       "      <td>&gt;Twitter for iPhone&lt;/a&gt;</td>\n",
       "    </tr>\n",
       "    <tr>\n",
       "      <th>2056</th>\n",
       "      <td>&lt;a href=</td>\n",
       "      <td>http://twitter.com/download/iphone</td>\n",
       "      <td>rel=</td>\n",
       "      <td>nofollow</td>\n",
       "      <td>&gt;Twitter for iPhone&lt;/a&gt;</td>\n",
       "    </tr>\n",
       "    <tr>\n",
       "      <th>2057</th>\n",
       "      <td>&lt;a href=</td>\n",
       "      <td>http://twitter.com/download/iphone</td>\n",
       "      <td>rel=</td>\n",
       "      <td>nofollow</td>\n",
       "      <td>&gt;Twitter for iPhone&lt;/a&gt;</td>\n",
       "    </tr>\n",
       "    <tr>\n",
       "      <th>2058</th>\n",
       "      <td>&lt;a href=</td>\n",
       "      <td>http://twitter.com/download/iphone</td>\n",
       "      <td>rel=</td>\n",
       "      <td>nofollow</td>\n",
       "      <td>&gt;Twitter for iPhone&lt;/a&gt;</td>\n",
       "    </tr>\n",
       "  </tbody>\n",
       "</table>\n",
       "<p>1964 rows × 5 columns</p>\n",
       "</div>"
      ],
      "text/plain": [
       "             0                                   1      2         3  \\\n",
       "0     <a href=  http://twitter.com/download/iphone   rel=  nofollow   \n",
       "1     <a href=  http://twitter.com/download/iphone   rel=  nofollow   \n",
       "2     <a href=  http://twitter.com/download/iphone   rel=  nofollow   \n",
       "3     <a href=  http://twitter.com/download/iphone   rel=  nofollow   \n",
       "4     <a href=  http://twitter.com/download/iphone   rel=  nofollow   \n",
       "5     <a href=  http://twitter.com/download/iphone   rel=  nofollow   \n",
       "6     <a href=  http://twitter.com/download/iphone   rel=  nofollow   \n",
       "7     <a href=  http://twitter.com/download/iphone   rel=  nofollow   \n",
       "8     <a href=  http://twitter.com/download/iphone   rel=  nofollow   \n",
       "9     <a href=  http://twitter.com/download/iphone   rel=  nofollow   \n",
       "10    <a href=  http://twitter.com/download/iphone   rel=  nofollow   \n",
       "11    <a href=  http://twitter.com/download/iphone   rel=  nofollow   \n",
       "12    <a href=  http://twitter.com/download/iphone   rel=  nofollow   \n",
       "13    <a href=  http://twitter.com/download/iphone   rel=  nofollow   \n",
       "14    <a href=  http://twitter.com/download/iphone   rel=  nofollow   \n",
       "15    <a href=  http://twitter.com/download/iphone   rel=  nofollow   \n",
       "16    <a href=  http://twitter.com/download/iphone   rel=  nofollow   \n",
       "17    <a href=  http://twitter.com/download/iphone   rel=  nofollow   \n",
       "18    <a href=  http://twitter.com/download/iphone   rel=  nofollow   \n",
       "19    <a href=  http://twitter.com/download/iphone   rel=  nofollow   \n",
       "20    <a href=  http://twitter.com/download/iphone   rel=  nofollow   \n",
       "21    <a href=  http://twitter.com/download/iphone   rel=  nofollow   \n",
       "22    <a href=  http://twitter.com/download/iphone   rel=  nofollow   \n",
       "23    <a href=  http://twitter.com/download/iphone   rel=  nofollow   \n",
       "24    <a href=  http://twitter.com/download/iphone   rel=  nofollow   \n",
       "25    <a href=  http://twitter.com/download/iphone   rel=  nofollow   \n",
       "26    <a href=  http://twitter.com/download/iphone   rel=  nofollow   \n",
       "27    <a href=  http://twitter.com/download/iphone   rel=  nofollow   \n",
       "28    <a href=  http://twitter.com/download/iphone   rel=  nofollow   \n",
       "29    <a href=  http://twitter.com/download/iphone   rel=  nofollow   \n",
       "...        ...                                 ...    ...       ...   \n",
       "2029  <a href=  http://twitter.com/download/iphone   rel=  nofollow   \n",
       "2030  <a href=  http://twitter.com/download/iphone   rel=  nofollow   \n",
       "2031  <a href=  http://twitter.com/download/iphone   rel=  nofollow   \n",
       "2032  <a href=  http://twitter.com/download/iphone   rel=  nofollow   \n",
       "2033  <a href=  http://twitter.com/download/iphone   rel=  nofollow   \n",
       "2034  <a href=  http://twitter.com/download/iphone   rel=  nofollow   \n",
       "2035  <a href=  http://twitter.com/download/iphone   rel=  nofollow   \n",
       "2036  <a href=  http://twitter.com/download/iphone   rel=  nofollow   \n",
       "2037  <a href=  http://twitter.com/download/iphone   rel=  nofollow   \n",
       "2038  <a href=  http://twitter.com/download/iphone   rel=  nofollow   \n",
       "2039  <a href=  http://twitter.com/download/iphone   rel=  nofollow   \n",
       "2040  <a href=  http://twitter.com/download/iphone   rel=  nofollow   \n",
       "2041  <a href=  http://twitter.com/download/iphone   rel=  nofollow   \n",
       "2042  <a href=  http://twitter.com/download/iphone   rel=  nofollow   \n",
       "2043  <a href=  http://twitter.com/download/iphone   rel=  nofollow   \n",
       "2044  <a href=  http://twitter.com/download/iphone   rel=  nofollow   \n",
       "2045  <a href=  http://twitter.com/download/iphone   rel=  nofollow   \n",
       "2046  <a href=  http://twitter.com/download/iphone   rel=  nofollow   \n",
       "2047  <a href=  http://twitter.com/download/iphone   rel=  nofollow   \n",
       "2048  <a href=  http://twitter.com/download/iphone   rel=  nofollow   \n",
       "2049  <a href=  http://twitter.com/download/iphone   rel=  nofollow   \n",
       "2050  <a href=  http://twitter.com/download/iphone   rel=  nofollow   \n",
       "2051  <a href=  http://twitter.com/download/iphone   rel=  nofollow   \n",
       "2052  <a href=  http://twitter.com/download/iphone   rel=  nofollow   \n",
       "2053  <a href=  http://twitter.com/download/iphone   rel=  nofollow   \n",
       "2054  <a href=  http://twitter.com/download/iphone   rel=  nofollow   \n",
       "2055  <a href=  http://twitter.com/download/iphone   rel=  nofollow   \n",
       "2056  <a href=  http://twitter.com/download/iphone   rel=  nofollow   \n",
       "2057  <a href=  http://twitter.com/download/iphone   rel=  nofollow   \n",
       "2058  <a href=  http://twitter.com/download/iphone   rel=  nofollow   \n",
       "\n",
       "                            4  \n",
       "0     >Twitter for iPhone</a>  \n",
       "1     >Twitter for iPhone</a>  \n",
       "2     >Twitter for iPhone</a>  \n",
       "3     >Twitter for iPhone</a>  \n",
       "4     >Twitter for iPhone</a>  \n",
       "5     >Twitter for iPhone</a>  \n",
       "6     >Twitter for iPhone</a>  \n",
       "7     >Twitter for iPhone</a>  \n",
       "8     >Twitter for iPhone</a>  \n",
       "9     >Twitter for iPhone</a>  \n",
       "10    >Twitter for iPhone</a>  \n",
       "11    >Twitter for iPhone</a>  \n",
       "12    >Twitter for iPhone</a>  \n",
       "13    >Twitter for iPhone</a>  \n",
       "14    >Twitter for iPhone</a>  \n",
       "15    >Twitter for iPhone</a>  \n",
       "16    >Twitter for iPhone</a>  \n",
       "17    >Twitter for iPhone</a>  \n",
       "18    >Twitter for iPhone</a>  \n",
       "19    >Twitter for iPhone</a>  \n",
       "20    >Twitter for iPhone</a>  \n",
       "21    >Twitter for iPhone</a>  \n",
       "22    >Twitter for iPhone</a>  \n",
       "23    >Twitter for iPhone</a>  \n",
       "24    >Twitter for iPhone</a>  \n",
       "25    >Twitter for iPhone</a>  \n",
       "26    >Twitter for iPhone</a>  \n",
       "27    >Twitter for iPhone</a>  \n",
       "28    >Twitter for iPhone</a>  \n",
       "29    >Twitter for iPhone</a>  \n",
       "...                       ...  \n",
       "2029  >Twitter for iPhone</a>  \n",
       "2030  >Twitter for iPhone</a>  \n",
       "2031  >Twitter for iPhone</a>  \n",
       "2032  >Twitter for iPhone</a>  \n",
       "2033  >Twitter for iPhone</a>  \n",
       "2034  >Twitter for iPhone</a>  \n",
       "2035  >Twitter for iPhone</a>  \n",
       "2036  >Twitter for iPhone</a>  \n",
       "2037  >Twitter for iPhone</a>  \n",
       "2038  >Twitter for iPhone</a>  \n",
       "2039  >Twitter for iPhone</a>  \n",
       "2040  >Twitter for iPhone</a>  \n",
       "2041  >Twitter for iPhone</a>  \n",
       "2042  >Twitter for iPhone</a>  \n",
       "2043  >Twitter for iPhone</a>  \n",
       "2044  >Twitter for iPhone</a>  \n",
       "2045  >Twitter for iPhone</a>  \n",
       "2046  >Twitter for iPhone</a>  \n",
       "2047  >Twitter for iPhone</a>  \n",
       "2048  >Twitter for iPhone</a>  \n",
       "2049  >Twitter for iPhone</a>  \n",
       "2050  >Twitter for iPhone</a>  \n",
       "2051  >Twitter for iPhone</a>  \n",
       "2052  >Twitter for iPhone</a>  \n",
       "2053  >Twitter for iPhone</a>  \n",
       "2054  >Twitter for iPhone</a>  \n",
       "2055  >Twitter for iPhone</a>  \n",
       "2056  >Twitter for iPhone</a>  \n",
       "2057  >Twitter for iPhone</a>  \n",
       "2058  >Twitter for iPhone</a>  \n",
       "\n",
       "[1964 rows x 5 columns]"
      ]
     },
     "execution_count": 65,
     "metadata": {},
     "output_type": "execute_result"
    }
   ],
   "source": [
    "href"
   ]
  },
  {
   "cell_type": "code",
   "execution_count": 66,
   "metadata": {},
   "outputs": [
    {
     "name": "stdout",
     "output_type": "stream",
     "text": [
      "<class 'pandas.core.frame.DataFrame'>\n",
      "Int64Index: 1964 entries, 0 to 2058\n",
      "Data columns (total 14 columns):\n",
      "tweet_id              1964 non-null object\n",
      "timestamp             1964 non-null datetime64[ns]\n",
      "source                1964 non-null object\n",
      "text                  1964 non-null object\n",
      "expanded_urls         1964 non-null object\n",
      "rating_numerator      1964 non-null int64\n",
      "rating_denominator    1964 non-null int64\n",
      "name                  1342 non-null object\n",
      "stage                 302 non-null category\n",
      "jpg_url               1964 non-null object\n",
      "img_num               1964 non-null int64\n",
      "pred_breed            1395 non-null object\n",
      "retweet_count         1964 non-null object\n",
      "favorite_count        1964 non-null object\n",
      "dtypes: category(1), datetime64[ns](1), int64(3), object(9)\n",
      "memory usage: 217.1+ KB\n"
     ]
    }
   ],
   "source": [
    "main_df.info()"
   ]
  },
  {
   "cell_type": "code",
   "execution_count": 67,
   "metadata": {},
   "outputs": [
    {
     "data": {
      "text/html": [
       "<div>\n",
       "<style scoped>\n",
       "    .dataframe tbody tr th:only-of-type {\n",
       "        vertical-align: middle;\n",
       "    }\n",
       "\n",
       "    .dataframe tbody tr th {\n",
       "        vertical-align: top;\n",
       "    }\n",
       "\n",
       "    .dataframe thead th {\n",
       "        text-align: right;\n",
       "    }\n",
       "</style>\n",
       "<table border=\"1\" class=\"dataframe\">\n",
       "  <thead>\n",
       "    <tr style=\"text-align: right;\">\n",
       "      <th></th>\n",
       "      <th>rating_numerator</th>\n",
       "      <th>rating_denominator</th>\n",
       "      <th>img_num</th>\n",
       "    </tr>\n",
       "  </thead>\n",
       "  <tbody>\n",
       "    <tr>\n",
       "      <th>count</th>\n",
       "      <td>1964.000000</td>\n",
       "      <td>1964.000000</td>\n",
       "      <td>1964.000000</td>\n",
       "    </tr>\n",
       "    <tr>\n",
       "      <th>mean</th>\n",
       "      <td>12.223014</td>\n",
       "      <td>10.479124</td>\n",
       "      <td>1.202138</td>\n",
       "    </tr>\n",
       "    <tr>\n",
       "      <th>std</th>\n",
       "      <td>41.708155</td>\n",
       "      <td>6.865424</td>\n",
       "      <td>0.559615</td>\n",
       "    </tr>\n",
       "    <tr>\n",
       "      <th>min</th>\n",
       "      <td>0.000000</td>\n",
       "      <td>2.000000</td>\n",
       "      <td>1.000000</td>\n",
       "    </tr>\n",
       "    <tr>\n",
       "      <th>25%</th>\n",
       "      <td>10.000000</td>\n",
       "      <td>10.000000</td>\n",
       "      <td>1.000000</td>\n",
       "    </tr>\n",
       "    <tr>\n",
       "      <th>50%</th>\n",
       "      <td>11.000000</td>\n",
       "      <td>10.000000</td>\n",
       "      <td>1.000000</td>\n",
       "    </tr>\n",
       "    <tr>\n",
       "      <th>75%</th>\n",
       "      <td>12.000000</td>\n",
       "      <td>10.000000</td>\n",
       "      <td>1.000000</td>\n",
       "    </tr>\n",
       "    <tr>\n",
       "      <th>max</th>\n",
       "      <td>1776.000000</td>\n",
       "      <td>170.000000</td>\n",
       "      <td>4.000000</td>\n",
       "    </tr>\n",
       "  </tbody>\n",
       "</table>\n",
       "</div>"
      ],
      "text/plain": [
       "       rating_numerator  rating_denominator      img_num\n",
       "count       1964.000000         1964.000000  1964.000000\n",
       "mean          12.223014           10.479124     1.202138\n",
       "std           41.708155            6.865424     0.559615\n",
       "min            0.000000            2.000000     1.000000\n",
       "25%           10.000000           10.000000     1.000000\n",
       "50%           11.000000           10.000000     1.000000\n",
       "75%           12.000000           10.000000     1.000000\n",
       "max         1776.000000          170.000000     4.000000"
      ]
     },
     "execution_count": 67,
     "metadata": {},
     "output_type": "execute_result"
    }
   ],
   "source": [
    "main_df.describe()"
   ]
  },
  {
   "cell_type": "markdown",
   "metadata": {},
   "source": [
    "### 12. Standardize dog ratings"
   ]
  },
  {
   "cell_type": "code",
   "execution_count": 68,
   "metadata": {},
   "outputs": [],
   "source": [
    "ratings = main_df.text.str.extract('((?:\\d+\\.)?\\d+)\\/(\\d+)', expand=True)"
   ]
  },
  {
   "cell_type": "code",
   "execution_count": 69,
   "metadata": {},
   "outputs": [],
   "source": [
    "main_df.rating_numerator = ratings\n",
    "main_df['rating_numerator'] = main_df['rating_numerator'].astype('float64')"
   ]
  },
  {
   "cell_type": "code",
   "execution_count": 70,
   "metadata": {},
   "outputs": [],
   "source": [
    "# standardizing to a denominator of 10 for groups of dogs:\n",
    "\n",
    "rating_num = [int(round(num/(denom/10)))  if denom != 10 and num/denom <= 2 \n",
    "                           else num for num, denom in zip(main_df['rating_numerator'], main_df['rating_denominator'])]\n",
    "rating_denom = [10 if denom != 10 and num/denom <= 2\n",
    "                             else denom for num, denom in zip(main_df['rating_numerator'], main_df['rating_denominator'])]\n",
    "main_df['rating_numerator'] = rating_num\n",
    "main_df['rating_denominator'] = rating_denom\n",
    "\n",
    "main_df = main_df.drop(main_df[((main_df['rating_denominator'] != 10) | (main_df['rating_numerator'] > 20))].index)"
   ]
  },
  {
   "cell_type": "code",
   "execution_count": 71,
   "metadata": {},
   "outputs": [
    {
     "data": {
      "text/plain": [
       "array([ 13.  ,  12.  ,  14.  ,  13.5 ,  11.  ,   6.  ,  10.  ,   0.  ,\n",
       "         9.75,   5.  ,  11.27,   3.  ,   7.  ,   8.  ,   9.  ,   4.  ,\n",
       "         2.  ,  11.26,   1.  ])"
      ]
     },
     "execution_count": 71,
     "metadata": {},
     "output_type": "execute_result"
    }
   ],
   "source": [
    "main_df['rating_numerator'].unique()"
   ]
  },
  {
   "cell_type": "code",
   "execution_count": 72,
   "metadata": {},
   "outputs": [
    {
     "data": {
      "text/plain": [
       "array([10])"
      ]
     },
     "execution_count": 72,
     "metadata": {},
     "output_type": "execute_result"
    }
   ],
   "source": [
    "main_df['rating_denominator'].unique()"
   ]
  },
  {
   "cell_type": "markdown",
   "metadata": {},
   "source": [
    "# Storing, Analyzing, and Visualizing Data"
   ]
  },
  {
   "cell_type": "code",
   "execution_count": 73,
   "metadata": {},
   "outputs": [],
   "source": [
    "# storing main dataframe as csv\n",
    "main_df.to_csv('twitter_archive_master.csv', encoding='utf-8', index=False)"
   ]
  },
  {
   "cell_type": "code",
   "execution_count": 74,
   "metadata": {},
   "outputs": [
    {
     "name": "stdout",
     "output_type": "stream",
     "text": [
      "<class 'pandas.core.frame.DataFrame'>\n",
      "RangeIndex: 1961 entries, 0 to 1960\n",
      "Data columns (total 14 columns):\n",
      "tweet_id              1961 non-null int64\n",
      "timestamp             1961 non-null object\n",
      "source                1961 non-null object\n",
      "text                  1961 non-null object\n",
      "expanded_urls         1961 non-null object\n",
      "rating_numerator      1961 non-null float64\n",
      "rating_denominator    1961 non-null int64\n",
      "name                  1340 non-null object\n",
      "stage                 302 non-null object\n",
      "jpg_url               1961 non-null object\n",
      "img_num               1961 non-null int64\n",
      "pred_breed            1394 non-null object\n",
      "retweet_count         1961 non-null int64\n",
      "favorite_count        1961 non-null int64\n",
      "dtypes: float64(1), int64(5), object(8)\n",
      "memory usage: 214.6+ KB\n"
     ]
    }
   ],
   "source": [
    "# read twitter_archive_master.csv\n",
    "df1 = pd.read_csv('twitter_archive_master.csv')\n",
    "df1.info()"
   ]
  },
  {
   "cell_type": "code",
   "execution_count": 75,
   "metadata": {},
   "outputs": [
    {
     "data": {
      "text/html": [
       "<div>\n",
       "<style scoped>\n",
       "    .dataframe tbody tr th:only-of-type {\n",
       "        vertical-align: middle;\n",
       "    }\n",
       "\n",
       "    .dataframe tbody tr th {\n",
       "        vertical-align: top;\n",
       "    }\n",
       "\n",
       "    .dataframe thead th {\n",
       "        text-align: right;\n",
       "    }\n",
       "</style>\n",
       "<table border=\"1\" class=\"dataframe\">\n",
       "  <thead>\n",
       "    <tr style=\"text-align: right;\">\n",
       "      <th></th>\n",
       "      <th>tweet_id</th>\n",
       "      <th>rating_numerator</th>\n",
       "      <th>rating_denominator</th>\n",
       "      <th>img_num</th>\n",
       "      <th>retweet_count</th>\n",
       "      <th>favorite_count</th>\n",
       "    </tr>\n",
       "  </thead>\n",
       "  <tbody>\n",
       "    <tr>\n",
       "      <th>count</th>\n",
       "      <td>1.961000e+03</td>\n",
       "      <td>1961.000000</td>\n",
       "      <td>1961.0</td>\n",
       "      <td>1961.000000</td>\n",
       "      <td>1961.000000</td>\n",
       "      <td>1961.000000</td>\n",
       "    </tr>\n",
       "    <tr>\n",
       "      <th>mean</th>\n",
       "      <td>7.358030e+17</td>\n",
       "      <td>10.528700</td>\n",
       "      <td>10.0</td>\n",
       "      <td>1.202448</td>\n",
       "      <td>2385.981642</td>\n",
       "      <td>8108.614482</td>\n",
       "    </tr>\n",
       "    <tr>\n",
       "      <th>std</th>\n",
       "      <td>6.745542e+16</td>\n",
       "      <td>2.179024</td>\n",
       "      <td>0.0</td>\n",
       "      <td>0.559987</td>\n",
       "      <td>4269.800622</td>\n",
       "      <td>11936.349859</td>\n",
       "    </tr>\n",
       "    <tr>\n",
       "      <th>min</th>\n",
       "      <td>6.660209e+17</td>\n",
       "      <td>0.000000</td>\n",
       "      <td>10.0</td>\n",
       "      <td>1.000000</td>\n",
       "      <td>11.000000</td>\n",
       "      <td>69.000000</td>\n",
       "    </tr>\n",
       "    <tr>\n",
       "      <th>25%</th>\n",
       "      <td>6.758457e+17</td>\n",
       "      <td>10.000000</td>\n",
       "      <td>10.0</td>\n",
       "      <td>1.000000</td>\n",
       "      <td>530.000000</td>\n",
       "      <td>1738.000000</td>\n",
       "    </tr>\n",
       "    <tr>\n",
       "      <th>50%</th>\n",
       "      <td>7.087111e+17</td>\n",
       "      <td>11.000000</td>\n",
       "      <td>10.0</td>\n",
       "      <td>1.000000</td>\n",
       "      <td>1154.000000</td>\n",
       "      <td>3648.000000</td>\n",
       "    </tr>\n",
       "    <tr>\n",
       "      <th>75%</th>\n",
       "      <td>7.877176e+17</td>\n",
       "      <td>12.000000</td>\n",
       "      <td>10.0</td>\n",
       "      <td>1.000000</td>\n",
       "      <td>2722.000000</td>\n",
       "      <td>10122.000000</td>\n",
       "    </tr>\n",
       "    <tr>\n",
       "      <th>max</th>\n",
       "      <td>8.924206e+17</td>\n",
       "      <td>14.000000</td>\n",
       "      <td>10.0</td>\n",
       "      <td>4.000000</td>\n",
       "      <td>75085.000000</td>\n",
       "      <td>151947.000000</td>\n",
       "    </tr>\n",
       "  </tbody>\n",
       "</table>\n",
       "</div>"
      ],
      "text/plain": [
       "           tweet_id  rating_numerator  rating_denominator      img_num  \\\n",
       "count  1.961000e+03       1961.000000              1961.0  1961.000000   \n",
       "mean   7.358030e+17         10.528700                10.0     1.202448   \n",
       "std    6.745542e+16          2.179024                 0.0     0.559987   \n",
       "min    6.660209e+17          0.000000                10.0     1.000000   \n",
       "25%    6.758457e+17         10.000000                10.0     1.000000   \n",
       "50%    7.087111e+17         11.000000                10.0     1.000000   \n",
       "75%    7.877176e+17         12.000000                10.0     1.000000   \n",
       "max    8.924206e+17         14.000000                10.0     4.000000   \n",
       "\n",
       "       retweet_count  favorite_count  \n",
       "count    1961.000000     1961.000000  \n",
       "mean     2385.981642     8108.614482  \n",
       "std      4269.800622    11936.349859  \n",
       "min        11.000000       69.000000  \n",
       "25%       530.000000     1738.000000  \n",
       "50%      1154.000000     3648.000000  \n",
       "75%      2722.000000    10122.000000  \n",
       "max     75085.000000   151947.000000  "
      ]
     },
     "execution_count": 75,
     "metadata": {},
     "output_type": "execute_result"
    }
   ],
   "source": [
    "df1.describe()"
   ]
  },
  {
   "cell_type": "markdown",
   "metadata": {},
   "source": [
    "## What are the 10 most frequent dog names?"
   ]
  },
  {
   "cell_type": "code",
   "execution_count": 84,
   "metadata": {},
   "outputs": [
    {
     "data": {
      "image/png": "[encoded data removed]",
      "text/plain": [
       "<matplotlib.figure.Figure at 0x7f5e211b0cc0>"
      ]
     },
     "metadata": {
      "needs_background": "light"
     },
     "output_type": "display_data"
    }
   ],
   "source": [
    "df1['name'].value_counts()[0:10].sort_values(ascending=False).plot(kind = 'bar', color= 'green')\n",
    "plt.ylabel('Number of Dogs')\n",
    "plt.title('Top 10 frequent dog names', size=15)\n",
    "plt.xlabel('Dog Names')\n",
    "plt.plot();"
   ]
  },
  {
   "cell_type": "markdown",
   "metadata": {},
   "source": [
    "##### Most of the dogs are of names: OLiver,Charlie, Cooper, Penny, Lucy, Tucker, Sadie, Winston, Lola, Daisy"
   ]
  },
  {
   "cell_type": "markdown",
   "metadata": {},
   "source": [
    "Also, check the count below:"
   ]
  },
  {
   "cell_type": "code",
   "execution_count": 77,
   "metadata": {},
   "outputs": [
    {
     "data": {
      "text/plain": [
       "Oliver     10\n",
       "Charlie    10\n",
       "Cooper     10\n",
       "Penny       9\n",
       "Lucy        9\n",
       "Tucker      9\n",
       "Sadie       8\n",
       "Winston     8\n",
       "Lola        7\n",
       "Daisy       7\n",
       "Name: name, dtype: int64"
      ]
     },
     "execution_count": 77,
     "metadata": {},
     "output_type": "execute_result"
    }
   ],
   "source": [
    "#Top 10 frequent dog names\n",
    "df1['name'].value_counts()[0:10].sort_values(ascending=False)"
   ]
  },
  {
   "cell_type": "markdown",
   "metadata": {},
   "source": [
    "## What are the 10 most frequent predicted dog breeds?"
   ]
  },
  {
   "cell_type": "code",
   "execution_count": 89,
   "metadata": {},
   "outputs": [
    {
     "data": {
      "image/png": "[encoded data removed]",
      "text/plain": [
       "<matplotlib.figure.Figure at 0x7f5e20e4f8d0>"
      ]
     },
     "metadata": {
      "needs_background": "light"
     },
     "output_type": "display_data"
    }
   ],
   "source": [
    "df1['pred_breed'].value_counts()[0:10].sort_values(ascending=False).plot(kind = 'bar', color= 'blue')\n",
    "plt.ylabel('Number of Breed Prediction')\n",
    "plt.title('Top 10 frequent dog breeds', size=15)\n",
    "plt.xlabel('Dog Breed')\n",
    "plt.plot();"
   ]
  },
  {
   "cell_type": "markdown",
   "metadata": {},
   "source": [
    "##### Most of the dogs have golden retriever, labrador retriever as a breed which all are rated"
   ]
  },
  {
   "cell_type": "code",
   "execution_count": 79,
   "metadata": {},
   "outputs": [
    {
     "data": {
      "text/plain": [
       "golden_retriever      137\n",
       "Labrador_retriever     91\n",
       "Pembroke               88\n",
       "Chihuahua              74\n",
       "pug                    53\n",
       "Samoyed                39\n",
       "chow                   39\n",
       "Pomeranian             37\n",
       "toy_poodle             36\n",
       "malamute               29\n",
       "Name: pred_breed, dtype: int64"
      ]
     },
     "execution_count": 79,
     "metadata": {},
     "output_type": "execute_result"
    }
   ],
   "source": [
    "#Top 10 frequent dog breeds\n",
    "df1['pred_breed'].value_counts()[0:10].sort_values(ascending=False)"
   ]
  },
  {
   "cell_type": "markdown",
   "metadata": {},
   "source": [
    "# Findings of the analysis"
   ]
  },
  {
   "cell_type": "markdown",
   "metadata": {},
   "source": [
    "1) The pred_breed column is created based on the the confidence level of minimum 20% and 'p1_dog', 'p2_dog' and 'p3_dog' statements\n",
    "\n",
    "2) Based on dog types: doggo, floofer, pupper, puppo, 'doggo, puppo', 'doggo, pupper', 'doggo, floofer', only one categorical column is created named as 'stage'\n",
    "\n",
    "3) tweet_id is set as object type as it is not going to use for calculation.\n",
    "\n",
    "4) A main dataframe is created using df_clean, image_df_clean, and tweet_json_clean dataframes\n",
    "\n",
    "5) Dog Names Issue got rectified\n",
    "\n",
    "6) Inconsistency in pred_breed got removed\n",
    "\n",
    "7) All retweets get deleted to get unique tweets\n",
    "\n",
    "8) The columns such as in_reply_to_status_id, in_reply_to_user_id, retweeted_status_id, retweeted_status_user_id, and retweeted_status_timestamp is removed which is not needed\n",
    "\n",
    "9) Timestamp format got corrected to datetime format\n",
    "\n",
    "10) Extra HTML tags from source column get refracted\n",
    "\n",
    "11) Dog ratings get standardized for denom of 10."
   ]
  },
  {
   "cell_type": "code",
   "execution_count": 80,
   "metadata": {},
   "outputs": [
    {
     "data": {
      "text/plain": [
       "0"
      ]
     },
     "execution_count": 80,
     "metadata": {},
     "output_type": "execute_result"
    }
   ],
   "source": [
    "from subprocess import call\n",
    "call(['python', '-m', 'nbconvert', 'wrangle_act.ipynb'])"
   ]
  }
 ],
 "metadata": {
  "kernelspec": {
   "display_name": "Python 3",
   "language": "python",
   "name": "python3"
  },
  "language_info": {
   "codemirror_mode": {
    "name": "ipython",
    "version": 3
   },
   "file_extension": ".py",
   "mimetype": "text/x-python",
   "name": "python",
   "nbconvert_exporter": "python",
   "pygments_lexer": "ipython3",
   "version": "3.6.3"
  }
 },
 "nbformat": 4,
 "nbformat_minor": 2
}
